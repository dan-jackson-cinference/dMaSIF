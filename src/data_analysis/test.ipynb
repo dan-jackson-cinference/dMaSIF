{
 "cells": [
  {
   "cell_type": "code",
   "execution_count": null,
   "metadata": {},
   "outputs": [],
   "source": [
    "import numpy as np\n",
    "\n",
    "outputs_path = '/home/danjackson/repos/dMaSIF/preds/dMaSIF_search_3layer_12A_16dim/1f6m_F_predfeatures_emb1.npy'\n",
    "outputs = np.load(outputs_path)\n",
    "print(outputs.shape)"
   ]
  }
 ],
 "metadata": {
  "language_info": {
   "name": "python"
  },
  "orig_nbformat": 4
 },
 "nbformat": 4,
 "nbformat_minor": 2
}
